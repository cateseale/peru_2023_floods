{
 "cells": [
  {
   "cell_type": "code",
   "execution_count": 21,
   "id": "cada450c-9a15-413f-9ca2-6501afc7c0f8",
   "metadata": {
    "tags": []
   },
   "outputs": [],
   "source": [
    "import ee\n",
    "import geemap\n",
    "import os\n"
   ]
  },
  {
   "cell_type": "code",
   "execution_count": 7,
   "id": "fe35655d-412a-4b26-959b-47775c18fe87",
   "metadata": {
    "tags": []
   },
   "outputs": [
    {
     "data": {
      "text/html": [
       "<p>To authorize access needed by Earth Engine, open the following\n",
       "        URL in a web browser and follow the instructions:</p>\n",
       "        <p><a href=https://code.earthengine.google.com/client-auth?scopes=https%3A//www.googleapis.com/auth/earthengine%20https%3A//www.googleapis.com/auth/devstorage.full_control&request_id=QVgReWc5vB4dGvSvQ1Z_Jbu4cduWvauxPCW2TXnHmSE&tc=fdtnA-9NKCZ2BLfRvSL2Hmv06B-FNPBOLdNQrVv6Uh4&cc=zF80vDVAOYt0WJ-QNPs2KW8ILTmcMiF2pkUY_AsuSUY>https://code.earthengine.google.com/client-auth?scopes=https%3A//www.googleapis.com/auth/earthengine%20https%3A//www.googleapis.com/auth/devstorage.full_control&request_id=QVgReWc5vB4dGvSvQ1Z_Jbu4cduWvauxPCW2TXnHmSE&tc=fdtnA-9NKCZ2BLfRvSL2Hmv06B-FNPBOLdNQrVv6Uh4&cc=zF80vDVAOYt0WJ-QNPs2KW8ILTmcMiF2pkUY_AsuSUY</a></p>\n",
       "        <p>The authorization workflow will generate a code, which you should paste in the box below.</p>\n",
       "        "
      ],
      "text/plain": [
       "<IPython.core.display.HTML object>"
      ]
     },
     "metadata": {},
     "output_type": "display_data"
    },
    {
     "name": "stdout",
     "output_type": "stream",
     "text": [
      "\n",
      "Successfully saved authorization token.\n"
     ]
    }
   ],
   "source": [
    "ee.Authenticate()\n",
    "ee.Initialize()"
   ]
  },
  {
   "cell_type": "code",
   "execution_count": 9,
   "id": "4bc6a172-c0e9-428d-b2b2-b6f57f0c29b8",
   "metadata": {
    "tags": []
   },
   "outputs": [],
   "source": [
    "# Get Peru bounds\n",
    "country_name = 'Peru'\n",
    "\n",
    "country = ee.FeatureCollection('USDOS/LSIB_SIMPLE/2017').filter(\n",
    "    ee.Filter.eq('country_na', country_name)\n",
    ")\n",
    "\n",
    "r_lon = -80.458952\n",
    "r_lat = -3.575189\n",
    "r_poi = ee.Geometry.Point(r_lon, r_lat)\n",
    "roi = ee.FeatureCollection(r_poi.buffer(10000))\n",
    "\n",
    "\n",
    "\n",
    "start_date = '2022-01-01'\n",
    "end_date = '2023-05-16'"
   ]
  },
  {
   "cell_type": "code",
   "execution_count": 10,
   "id": "85cf8c26-3521-4099-ba72-2e236058a291",
   "metadata": {
    "tags": []
   },
   "outputs": [],
   "source": [
    "# https://developers.google.com/earth-engine/tutorials/community/sentinel-2-s2cloudless\n",
    "CLOUD_FILTER = 60\n",
    "CLD_PRB_THRESH = 40\n",
    "NIR_DRK_THRESH = 0.15\n",
    "CLD_PRJ_DIST = 2\n",
    "BUFFER = 100\n",
    "\n",
    "\n",
    "def get_s2_sr_cld_col(aoi, start_date, end_date):\n",
    "    # Import and filter S2 SR.\n",
    "    s2_sr_col = (ee.ImageCollection('COPERNICUS/S2_SR')\n",
    "        .filterBounds(aoi)\n",
    "        .filterDate(start_date, end_date)\n",
    "        .filter(ee.Filter.lte('CLOUDY_PIXEL_PERCENTAGE', CLOUD_FILTER)))\n",
    "\n",
    "    # Import and filter s2cloudless.\n",
    "    s2_cloudless_col = (ee.ImageCollection('COPERNICUS/S2_CLOUD_PROBABILITY')\n",
    "        .filterBounds(aoi)\n",
    "        .filterDate(start_date, end_date))\n",
    "\n",
    "    # Join the filtered s2cloudless collection to the SR collection by the 'system:index' property.\n",
    "    return ee.ImageCollection(ee.Join.saveFirst('s2cloudless').apply(**{\n",
    "        'primary': s2_sr_col,\n",
    "        'secondary': s2_cloudless_col,\n",
    "        'condition': ee.Filter.equals(**{\n",
    "            'leftField': 'system:index',\n",
    "            'rightField': 'system:index'\n",
    "        })\n",
    "    }))\n",
    "\n",
    "\n",
    "\n",
    "\n",
    "def add_cloud_bands(img):\n",
    "    # Get s2cloudless image, subset the probability band.\n",
    "    cld_prb = ee.Image(img.get('s2cloudless')).select('probability')\n",
    "\n",
    "    # Condition s2cloudless by the probability threshold value.\n",
    "    is_cloud = cld_prb.gt(CLD_PRB_THRESH).rename('clouds')\n",
    "\n",
    "    # Add the cloud probability layer and cloud mask as image bands.\n",
    "    return img.addBands(ee.Image([cld_prb, is_cloud]))\n",
    "\n",
    "\n",
    "def add_shadow_bands(img):\n",
    "    # Identify water pixels from the SCL band.\n",
    "    not_water = img.select('SCL').neq(6)\n",
    "\n",
    "    # Identify dark NIR pixels that are not water (potential cloud shadow pixels).\n",
    "    SR_BAND_SCALE = 1e4\n",
    "    dark_pixels = img.select('B8').lt(NIR_DRK_THRESH*SR_BAND_SCALE).multiply(not_water).rename('dark_pixels')\n",
    "\n",
    "    # Determine the direction to project cloud shadow from clouds (assumes UTM projection).\n",
    "    shadow_azimuth = ee.Number(90).subtract(ee.Number(img.get('MEAN_SOLAR_AZIMUTH_ANGLE')));\n",
    "\n",
    "    # Project shadows from clouds for the distance specified by the CLD_PRJ_DIST input.\n",
    "    cld_proj = (img.select('clouds').directionalDistanceTransform(shadow_azimuth, CLD_PRJ_DIST*10)\n",
    "        .reproject(**{'crs': img.select(0).projection(), 'scale': 100})\n",
    "        .select('distance')\n",
    "        .mask()\n",
    "        .rename('cloud_transform'))\n",
    "\n",
    "    # Identify the intersection of dark pixels with cloud shadow projection.\n",
    "    shadows = cld_proj.multiply(dark_pixels).rename('shadows')\n",
    "\n",
    "    # Add dark pixels, cloud projection, and identified shadows as image bands.\n",
    "    return img.addBands(ee.Image([dark_pixels, cld_proj, shadows]))\n",
    "\n",
    "def add_cld_shdw_mask(img):\n",
    "    # Add cloud component bands.\n",
    "    img_cloud = add_cloud_bands(img)\n",
    "\n",
    "    # Add cloud shadow component bands.\n",
    "    img_cloud_shadow = add_shadow_bands(img_cloud)\n",
    "\n",
    "    # Combine cloud and shadow mask, set cloud and shadow as value 1, else 0.\n",
    "    is_cld_shdw = img_cloud_shadow.select('clouds').add(img_cloud_shadow.select('shadows')).gt(0)\n",
    "\n",
    "    # Remove small cloud-shadow patches and dilate remaining pixels by BUFFER input.\n",
    "    # 20 m scale is for speed, and assumes clouds don't require 10 m precision.\n",
    "    is_cld_shdw = (is_cld_shdw.focalMin(2).focalMax(BUFFER*2/20)\n",
    "        .reproject(**{'crs': img.select([0]).projection(), 'scale': 20})\n",
    "        .rename('cloudmask'))\n",
    "\n",
    "    # Add the final cloud-shadow mask to the image.\n",
    "    return img_cloud_shadow.addBands(is_cld_shdw)\n",
    "\n",
    "def apply_cld_shdw_mask(img):\n",
    "    # Subset the cloudmask band and invert it so clouds/shadow are 0, else 1.\n",
    "    not_cld_shdw = img.select('cloudmask').Not()\n",
    "\n",
    "    # Subset reflectance bands and update their masks, return the result.\n",
    "    return img.select('B.*').updateMask(not_cld_shdw)\n",
    "\n",
    "\n",
    "s2cloudless_col = get_s2_sr_cld_col(country, start_date, end_date)\n",
    "\n",
    "s2_sr_median = (s2cloudless_col.map(add_cld_shdw_mask)\n",
    "                             .map(apply_cld_shdw_mask)\n",
    "                             .median()).clipToCollection(country)\n"
   ]
  },
  {
   "cell_type": "code",
   "execution_count": 11,
   "id": "27757bed-2a21-47ff-b87e-a1f1e026e909",
   "metadata": {
    "tags": []
   },
   "outputs": [
    {
     "data": {
      "application/vnd.jupyter.widget-view+json": {
       "model_id": "ec5c40c7c1ae4b98b7bc56d0a7539dce",
       "version_major": 2,
       "version_minor": 0
      },
      "text/plain": [
       "Map(center=[-3.575189, -80.458952], controls=(WidgetControl(options=['position', 'transparent_bg'], widget=HBo…"
      ]
     },
     "metadata": {},
     "output_type": "display_data"
    }
   ],
   "source": [
    "Map = geemap.Map()\n",
    "\n",
    "\n",
    "# Display on a map\n",
    "\n",
    "Map.addLayer(s2_sr_median, {'bands': ['B4', 'B3', 'B2'], 'min': 0, 'max': 2500, 'gamma': 1.1})\n",
    "\n",
    "style = {'color': 'black', 'fillColor': '00000000'}\n",
    "Map.addLayer(country.style(**style), {}, country_name)\n",
    "\n",
    "roi_style = {'color': 'red', 'fillColor': '00000000'}\n",
    "Map.addLayer(roi.style(**roi_style), {}, 'ROI')\n",
    "\n",
    "\n",
    "Map.setCenter(r_lon, r_lat, 12);\n",
    "Map"
   ]
  },
  {
   "cell_type": "markdown",
   "id": "c86f1b5d-cf0f-4b99-b3b5-71efd345c055",
   "metadata": {},
   "source": [
    "## Create quarterly images using the above procedure"
   ]
  },
  {
   "cell_type": "code",
   "execution_count": 12,
   "id": "bbee2af0-6438-472b-8cb8-492cfc6b57ab",
   "metadata": {
    "tags": []
   },
   "outputs": [],
   "source": [
    "# Dry season 1\n",
    "q1_start_date = '2022-04-23'\n",
    "q1_end_date = '2022-07-14'\n",
    "q1_s2 = get_s2_sr_cld_col(country, q1_start_date, q1_end_date)\n",
    "q1_s2_median = (q1_s2.map(add_cld_shdw_mask).map(apply_cld_shdw_mask).median()).clipToCollection(country)\n",
    "\n",
    "# Dry season 1\n",
    "q2_start_date = '2022-07-15'\n",
    "q2_end_date = '2022-10-15'\n",
    "q2_s2 = get_s2_sr_cld_col(country, q2_start_date, q2_end_date)\n",
    "q2_s2_median = (q2_s2.map(add_cld_shdw_mask).map(apply_cld_shdw_mask).median()).clipToCollection(country)\n",
    "\n",
    "# Dry season 2\n",
    "q3_start_date = '2022-10-16'\n",
    "q3_end_date = '2023-01-16'\n",
    "q3_s2 = get_s2_sr_cld_col(country, q3_start_date, q3_end_date)\n",
    "q3_s2_median = (q3_s2.map(add_cld_shdw_mask).map(apply_cld_shdw_mask).median()).clipToCollection(country)\n",
    "\n",
    "# Current flooding period in Tumbes https://weatherspark.com/y/18278/Average-Weather-in-Tumbes-Peru-Year-Round\n",
    "flood_start_date = '2023-01-17'\n",
    "flood_end_date = '2023-04-22'\n",
    "flood_s2 = get_s2_sr_cld_col(country, flood_start_date, flood_end_date)\n",
    "flood_s2_median = (flood_s2.map(add_cld_shdw_mask).map(apply_cld_shdw_mask).median()).clipToCollection(country)\n"
   ]
  },
  {
   "cell_type": "markdown",
   "id": "89fa7a29-56ea-41d9-ad05-6fd2b139d6e1",
   "metadata": {
    "tags": []
   },
   "source": [
    "## Calculate MNDWI for the composites"
   ]
  },
  {
   "cell_type": "code",
   "execution_count": 13,
   "id": "cad3cf18-f6f5-4c34-85e9-a41784e1d525",
   "metadata": {
    "tags": []
   },
   "outputs": [],
   "source": [
    "mndwi_q1 = q1_s2_median.normalizedDifference(['B3', 'B11']).rename('MNDWI')\n",
    "mndwi_q2 = q2_s2_median.normalizedDifference(['B3', 'B11']).rename('MNDWI')\n",
    "mndwi_q3 = q3_s2_median.normalizedDifference(['B3', 'B11']).rename('MNDWI')\n",
    "mndwi_flood = flood_s2_median.normalizedDifference(['B3', 'B11']).rename('MNDWI')"
   ]
  },
  {
   "cell_type": "code",
   "execution_count": 14,
   "id": "962884a3-fe41-4c9b-a04f-34699101c36c",
   "metadata": {
    "tags": []
   },
   "outputs": [
    {
     "data": {
      "application/vnd.jupyter.widget-view+json": {
       "model_id": "6261c0a46ab34f17883c240674509fba",
       "version_major": 2,
       "version_minor": 0
      },
      "text/plain": [
       "Map(center=[-3.575189, -80.458952], controls=(WidgetControl(options=['position', 'transparent_bg'], widget=HBo…"
      ]
     },
     "metadata": {},
     "output_type": "display_data"
    }
   ],
   "source": [
    "Map = geemap.Map()\n",
    "\n",
    "ndwi_vis = {'min': -1, 'max': 1, 'palette': 'RdBu'}\n",
    "# Display on a map\n",
    "\n",
    "Map.addLayer(mndwi_q1, ndwi_vis, 'Q1 MNDWI')\n",
    "Map.addLayer(mndwi_q2, ndwi_vis, 'Q2 MNDWI')\n",
    "Map.addLayer(mndwi_q3, ndwi_vis, 'Q3 MNDWI')\n",
    "Map.addLayer(mndwi_flood, ndwi_vis, 'Flood MNDWI')\n",
    "\n",
    "style = {'color': 'black', 'fillColor': '00000000'}\n",
    "Map.addLayer(country.style(**style), {}, country_name)\n",
    "\n",
    "Map.setCenter(r_lon, r_lat, 12);\n",
    "Map"
   ]
  },
  {
   "cell_type": "markdown",
   "id": "5e00c449-30e1-4097-bc06-3fbacdaa0e01",
   "metadata": {},
   "source": [
    "## Threshold the composites"
   ]
  },
  {
   "cell_type": "code",
   "execution_count": 15,
   "id": "6505a027-ef86-4862-b38b-9330b63edb4a",
   "metadata": {
    "tags": []
   },
   "outputs": [],
   "source": [
    "mndwi_threshold = 0.35 # https://www.ncbi.nlm.nih.gov/pmc/articles/PMC6111878/\n",
    "mndwi_water_q1 = mndwi_q1.gt(mndwi_threshold)\n",
    "mndwi_water_q2 = mndwi_q2.gt(mndwi_threshold)\n",
    "mndwi_water_q3 = mndwi_q3.gt(mndwi_threshold)\n",
    "mndwi_water_flood = mndwi_flood.gt(mndwi_threshold)"
   ]
  },
  {
   "cell_type": "code",
   "execution_count": 16,
   "id": "5961567a-9f1a-415a-9ee3-dc368479f832",
   "metadata": {
    "tags": []
   },
   "outputs": [
    {
     "data": {
      "application/vnd.jupyter.widget-view+json": {
       "model_id": "f7aea10d8aa94cf38b813e6cec1c2c39",
       "version_major": 2,
       "version_minor": 0
      },
      "text/plain": [
       "Map(center=[-3.6, -81.5], controls=(WidgetControl(options=['position', 'transparent_bg'], widget=HBox(children…"
      ]
     },
     "metadata": {},
     "output_type": "display_data"
    }
   ],
   "source": [
    "Map = geemap.Map()\n",
    "Map.setCenter(-81.5, -3.6, 7)\n",
    "\n",
    "Map.addLayer(mndwi_water_q1.selfMask(), {'palette': 'blue'}, 'mndwi_water_q1')\n",
    "Map.addLayer(mndwi_water_q2.selfMask(), {'palette': 'red'}, 'mndwi_water_q2')\n",
    "Map.addLayer(mndwi_water_q3.selfMask(), {'palette': 'yellow'}, 'mndwi_water_q3')\n",
    "Map.addLayer(mndwi_water_flood.selfMask(), {'palette': 'orange'}, 'mndwi_water_flood')\n",
    "\n",
    "Map.addLayer(country.style(**style), {}, country_name)\n",
    "Map"
   ]
  },
  {
   "cell_type": "markdown",
   "id": "59e17aa5-ac59-4625-b193-8806f1d5a21c",
   "metadata": {},
   "source": [
    "## Calculate the flood extent from the max - min"
   ]
  },
  {
   "cell_type": "code",
   "execution_count": 17,
   "id": "8dfb6099-9258-4e45-8346-e727e02d9b77",
   "metadata": {
    "tags": []
   },
   "outputs": [],
   "source": [
    "mndwi_flood_extent = mndwi_water_flood.subtract(mndwi_water_q3).gt(0).selfMask()"
   ]
  },
  {
   "cell_type": "code",
   "execution_count": 19,
   "id": "e4cb8e3c-907a-45da-902e-6b6e01158bf1",
   "metadata": {
    "tags": []
   },
   "outputs": [
    {
     "data": {
      "application/vnd.jupyter.widget-view+json": {
       "model_id": "d5d27c4341604433895a9c8cbc08116f",
       "version_major": 2,
       "version_minor": 0
      },
      "text/plain": [
       "Map(center=[-3.6, -81.5], controls=(WidgetControl(options=['position', 'transparent_bg'], widget=HBox(children…"
      ]
     },
     "metadata": {},
     "output_type": "display_data"
    }
   ],
   "source": [
    "Map = geemap.Map()\n",
    "Map.setCenter(-81.5, -3.6, 10)\n",
    "\n",
    "Map.addLayer(mndwi_flood_extent, {'palette': 'magenta'}, 'MNDWI Flood Extent')\n",
    "\n",
    "Map.addLayer(country.style(**style), {}, country_name)\n",
    "Map"
   ]
  },
  {
   "attachments": {},
   "cell_type": "markdown",
   "id": "0605fe78",
   "metadata": {},
   "source": [
    "## Export to Local Drive"
   ]
  },
  {
   "cell_type": "code",
   "execution_count": 23,
   "id": "e05f2f0e-4d94-4dcf-9be3-1fd5704d4609",
   "metadata": {},
   "outputs": [],
   "source": [
    "def export_image_to_file(image, file_format, geometry=None):\n",
    "    \n",
    "    # Define the output directory\n",
    "    out_dir = 'data/'\n",
    "    if not os.path.exists(out_dir):\n",
    "        os.makedirs(out_dir)\n",
    "    \n",
    "    # Convert the image to a GeoJSON or TIFF file\n",
    "    if file_format == 'geojson':\n",
    "        # Convert the image to a feature collection and clip to the bounding box\n",
    "        fc = image.reduceToVectors(geometry=geometry, scale=30)\n",
    "        # Export the feature collection to a GeoJSON file\n",
    "        file_name = 'image.geojson'\n",
    "        geemap.ee_export_vector(fc, out_dir + file_name)\n",
    "    elif file_format == 'tiff':\n",
    "        # Export the image to a TIFF file\n",
    "        file_name = 'image.tif'\n",
    "        geemap.ee_export_image(image, out_dir + file_name, scale=30)\n",
    "    else:\n",
    "        print('Invalid file format specified.')\n",
    "        return\n",
    "\n",
    "    print(f'Successfully exported image to {out_dir + file_name}.')\n"
   ]
  },
  {
   "cell_type": "code",
   "execution_count": 26,
   "id": "889dcb01",
   "metadata": {},
   "outputs": [
    {
     "ename": "EEException",
     "evalue": "Image.reduceToVectors: Provide 'geometry' parameter when aggregating over an unbounded image.",
     "output_type": "error",
     "traceback": [
      "\u001b[1;31m---------------------------------------------------------------------------\u001b[0m",
      "\u001b[1;31mHttpError\u001b[0m                                 Traceback (most recent call last)",
      "\u001b[1;32mc:\\Users\\Windows10Pro\\AppData\\Local\\Programs\\Python\\Python37\\lib\\site-packages\\ee\\data.py\u001b[0m in \u001b[0;36m_execute_cloud_call\u001b[1;34m(call, num_retries)\u001b[0m\n\u001b[0;32m    336\u001b[0m   \u001b[1;32mtry\u001b[0m\u001b[1;33m:\u001b[0m\u001b[1;33m\u001b[0m\u001b[1;33m\u001b[0m\u001b[0m\n\u001b[1;32m--> 337\u001b[1;33m     \u001b[1;32mreturn\u001b[0m \u001b[0mcall\u001b[0m\u001b[1;33m.\u001b[0m\u001b[0mexecute\u001b[0m\u001b[1;33m(\u001b[0m\u001b[0mnum_retries\u001b[0m\u001b[1;33m=\u001b[0m\u001b[0mnum_retries\u001b[0m\u001b[1;33m)\u001b[0m\u001b[1;33m\u001b[0m\u001b[1;33m\u001b[0m\u001b[0m\n\u001b[0m\u001b[0;32m    338\u001b[0m   \u001b[1;32mexcept\u001b[0m \u001b[0mgoogleapiclient\u001b[0m\u001b[1;33m.\u001b[0m\u001b[0merrors\u001b[0m\u001b[1;33m.\u001b[0m\u001b[0mHttpError\u001b[0m \u001b[1;32mas\u001b[0m \u001b[0me\u001b[0m\u001b[1;33m:\u001b[0m\u001b[1;33m\u001b[0m\u001b[1;33m\u001b[0m\u001b[0m\n",
      "\u001b[1;32mc:\\Users\\Windows10Pro\\AppData\\Local\\Programs\\Python\\Python37\\lib\\site-packages\\googleapiclient\\_helpers.py\u001b[0m in \u001b[0;36mpositional_wrapper\u001b[1;34m(*args, **kwargs)\u001b[0m\n\u001b[0;32m    129\u001b[0m                     \u001b[0mlogger\u001b[0m\u001b[1;33m.\u001b[0m\u001b[0mwarning\u001b[0m\u001b[1;33m(\u001b[0m\u001b[0mmessage\u001b[0m\u001b[1;33m)\u001b[0m\u001b[1;33m\u001b[0m\u001b[1;33m\u001b[0m\u001b[0m\n\u001b[1;32m--> 130\u001b[1;33m             \u001b[1;32mreturn\u001b[0m \u001b[0mwrapped\u001b[0m\u001b[1;33m(\u001b[0m\u001b[1;33m*\u001b[0m\u001b[0margs\u001b[0m\u001b[1;33m,\u001b[0m \u001b[1;33m**\u001b[0m\u001b[0mkwargs\u001b[0m\u001b[1;33m)\u001b[0m\u001b[1;33m\u001b[0m\u001b[1;33m\u001b[0m\u001b[0m\n\u001b[0m\u001b[0;32m    131\u001b[0m \u001b[1;33m\u001b[0m\u001b[0m\n",
      "\u001b[1;32mc:\\Users\\Windows10Pro\\AppData\\Local\\Programs\\Python\\Python37\\lib\\site-packages\\googleapiclient\\http.py\u001b[0m in \u001b[0;36mexecute\u001b[1;34m(self, http, num_retries)\u001b[0m\n\u001b[0;32m    937\u001b[0m         \u001b[1;32mif\u001b[0m \u001b[0mresp\u001b[0m\u001b[1;33m.\u001b[0m\u001b[0mstatus\u001b[0m \u001b[1;33m>=\u001b[0m \u001b[1;36m300\u001b[0m\u001b[1;33m:\u001b[0m\u001b[1;33m\u001b[0m\u001b[1;33m\u001b[0m\u001b[0m\n\u001b[1;32m--> 938\u001b[1;33m             \u001b[1;32mraise\u001b[0m \u001b[0mHttpError\u001b[0m\u001b[1;33m(\u001b[0m\u001b[0mresp\u001b[0m\u001b[1;33m,\u001b[0m \u001b[0mcontent\u001b[0m\u001b[1;33m,\u001b[0m \u001b[0muri\u001b[0m\u001b[1;33m=\u001b[0m\u001b[0mself\u001b[0m\u001b[1;33m.\u001b[0m\u001b[0muri\u001b[0m\u001b[1;33m)\u001b[0m\u001b[1;33m\u001b[0m\u001b[1;33m\u001b[0m\u001b[0m\n\u001b[0m\u001b[0;32m    939\u001b[0m         \u001b[1;32mreturn\u001b[0m \u001b[0mself\u001b[0m\u001b[1;33m.\u001b[0m\u001b[0mpostproc\u001b[0m\u001b[1;33m(\u001b[0m\u001b[0mresp\u001b[0m\u001b[1;33m,\u001b[0m \u001b[0mcontent\u001b[0m\u001b[1;33m)\u001b[0m\u001b[1;33m\u001b[0m\u001b[1;33m\u001b[0m\u001b[0m\n",
      "\u001b[1;31mHttpError\u001b[0m: <HttpError 400 when requesting https://earthengine.googleapis.com/v1alpha/projects/earthengine-legacy/value:compute?prettyPrint=false&alt=json returned \"Image.reduceToVectors: Provide 'geometry' parameter when aggregating over an unbounded image.\". Details: \"Image.reduceToVectors: Provide 'geometry' parameter when aggregating over an unbounded image.\">",
      "\nDuring handling of the above exception, another exception occurred:\n",
      "\u001b[1;31mEEException\u001b[0m                               Traceback (most recent call last)",
      "\u001b[1;32mD:\\TEMP\\ipykernel_12224\\2376488787.py\u001b[0m in \u001b[0;36m<module>\u001b[1;34m\u001b[0m\n\u001b[1;32m----> 1\u001b[1;33m \u001b[0mexport_image_to_file\u001b[0m\u001b[1;33m(\u001b[0m\u001b[0mmndwi_flood_extent\u001b[0m\u001b[1;33m,\u001b[0m \u001b[1;34m'geojson'\u001b[0m\u001b[1;33m)\u001b[0m\u001b[1;33m\u001b[0m\u001b[1;33m\u001b[0m\u001b[0m\n\u001b[0m",
      "\u001b[1;32mD:\\TEMP\\ipykernel_12224\\1423009408.py\u001b[0m in \u001b[0;36mexport_image_to_file\u001b[1;34m(image, file_format)\u001b[0m\n\u001b[0;32m     13\u001b[0m         \u001b[1;31m# Export the feature collection to a GeoJSON file\u001b[0m\u001b[1;33m\u001b[0m\u001b[1;33m\u001b[0m\u001b[1;33m\u001b[0m\u001b[0m\n\u001b[0;32m     14\u001b[0m         \u001b[0mfile_name\u001b[0m \u001b[1;33m=\u001b[0m \u001b[1;34m'image.geojson'\u001b[0m\u001b[1;33m\u001b[0m\u001b[1;33m\u001b[0m\u001b[0m\n\u001b[1;32m---> 15\u001b[1;33m         \u001b[0mgeemap\u001b[0m\u001b[1;33m.\u001b[0m\u001b[0mee_export_vector\u001b[0m\u001b[1;33m(\u001b[0m\u001b[0mfc\u001b[0m\u001b[1;33m,\u001b[0m \u001b[0mout_dir\u001b[0m \u001b[1;33m+\u001b[0m \u001b[0mfile_name\u001b[0m\u001b[1;33m)\u001b[0m\u001b[1;33m\u001b[0m\u001b[1;33m\u001b[0m\u001b[0m\n\u001b[0m\u001b[0;32m     16\u001b[0m     \u001b[1;32melif\u001b[0m \u001b[0mfile_format\u001b[0m \u001b[1;33m==\u001b[0m \u001b[1;34m'tiff'\u001b[0m\u001b[1;33m:\u001b[0m\u001b[1;33m\u001b[0m\u001b[1;33m\u001b[0m\u001b[0m\n\u001b[0;32m     17\u001b[0m         \u001b[1;31m# Export the image to a TIFF file\u001b[0m\u001b[1;33m\u001b[0m\u001b[1;33m\u001b[0m\u001b[1;33m\u001b[0m\u001b[0m\n",
      "\u001b[1;32mc:\\Users\\Windows10Pro\\AppData\\Local\\Programs\\Python\\Python37\\lib\\site-packages\\geemap\\common.py\u001b[0m in \u001b[0;36mee_export_vector\u001b[1;34m(ee_object, filename, selectors, verbose, keep_zip, timeout, proxies)\u001b[0m\n\u001b[0;32m   1531\u001b[0m \u001b[1;33m\u001b[0m\u001b[0m\n\u001b[0;32m   1532\u001b[0m     \u001b[1;32mif\u001b[0m \u001b[0mselectors\u001b[0m \u001b[1;32mis\u001b[0m \u001b[1;32mNone\u001b[0m\u001b[1;33m:\u001b[0m\u001b[1;33m\u001b[0m\u001b[1;33m\u001b[0m\u001b[0m\n\u001b[1;32m-> 1533\u001b[1;33m         \u001b[0mselectors\u001b[0m \u001b[1;33m=\u001b[0m \u001b[0mee_object\u001b[0m\u001b[1;33m.\u001b[0m\u001b[0mfirst\u001b[0m\u001b[1;33m(\u001b[0m\u001b[1;33m)\u001b[0m\u001b[1;33m.\u001b[0m\u001b[0mpropertyNames\u001b[0m\u001b[1;33m(\u001b[0m\u001b[1;33m)\u001b[0m\u001b[1;33m.\u001b[0m\u001b[0mgetInfo\u001b[0m\u001b[1;33m(\u001b[0m\u001b[1;33m)\u001b[0m\u001b[1;33m\u001b[0m\u001b[1;33m\u001b[0m\u001b[0m\n\u001b[0m\u001b[0;32m   1534\u001b[0m         \u001b[1;32mif\u001b[0m \u001b[0mfiletype\u001b[0m \u001b[1;33m==\u001b[0m \u001b[1;34m\"csv\"\u001b[0m\u001b[1;33m:\u001b[0m\u001b[1;33m\u001b[0m\u001b[1;33m\u001b[0m\u001b[0m\n\u001b[0;32m   1535\u001b[0m             \u001b[1;31m# remove .geo coordinate field\u001b[0m\u001b[1;33m\u001b[0m\u001b[1;33m\u001b[0m\u001b[1;33m\u001b[0m\u001b[0m\n",
      "\u001b[1;32mc:\\Users\\Windows10Pro\\AppData\\Local\\Programs\\Python\\Python37\\lib\\site-packages\\ee\\computedobject.py\u001b[0m in \u001b[0;36mgetInfo\u001b[1;34m(self)\u001b[0m\n\u001b[0;32m     94\u001b[0m       \u001b[0mThe\u001b[0m \u001b[0mobject\u001b[0m \u001b[0mcan\u001b[0m \u001b[0mevaluate\u001b[0m \u001b[0mto\u001b[0m \u001b[0manything\u001b[0m\u001b[1;33m.\u001b[0m\u001b[1;33m\u001b[0m\u001b[1;33m\u001b[0m\u001b[0m\n\u001b[0;32m     95\u001b[0m     \"\"\"\n\u001b[1;32m---> 96\u001b[1;33m     \u001b[1;32mreturn\u001b[0m \u001b[0mdata\u001b[0m\u001b[1;33m.\u001b[0m\u001b[0mcomputeValue\u001b[0m\u001b[1;33m(\u001b[0m\u001b[0mself\u001b[0m\u001b[1;33m)\u001b[0m\u001b[1;33m\u001b[0m\u001b[1;33m\u001b[0m\u001b[0m\n\u001b[0m\u001b[0;32m     97\u001b[0m \u001b[1;33m\u001b[0m\u001b[0m\n\u001b[0;32m     98\u001b[0m   \u001b[1;32mdef\u001b[0m \u001b[0mencode\u001b[0m\u001b[1;33m(\u001b[0m\u001b[0mself\u001b[0m\u001b[1;33m,\u001b[0m \u001b[0mencoder\u001b[0m\u001b[1;33m)\u001b[0m\u001b[1;33m:\u001b[0m\u001b[1;33m\u001b[0m\u001b[1;33m\u001b[0m\u001b[0m\n",
      "\u001b[1;32mc:\\Users\\Windows10Pro\\AppData\\Local\\Programs\\Python\\Python37\\lib\\site-packages\\ee\\data.py\u001b[0m in \u001b[0;36mcomputeValue\u001b[1;34m(obj)\u001b[0m\n\u001b[0;32m    918\u001b[0m           \u001b[0mbody\u001b[0m\u001b[1;33m=\u001b[0m\u001b[0mbody\u001b[0m\u001b[1;33m,\u001b[0m\u001b[1;33m\u001b[0m\u001b[1;33m\u001b[0m\u001b[0m\n\u001b[0;32m    919\u001b[0m           \u001b[0mproject\u001b[0m\u001b[1;33m=\u001b[0m\u001b[0m_get_projects_path\u001b[0m\u001b[1;33m(\u001b[0m\u001b[1;33m)\u001b[0m\u001b[1;33m,\u001b[0m\u001b[1;33m\u001b[0m\u001b[1;33m\u001b[0m\u001b[0m\n\u001b[1;32m--> 920\u001b[1;33m           prettyPrint=False))['result']\n\u001b[0m\u001b[0;32m    921\u001b[0m \u001b[1;33m\u001b[0m\u001b[0m\n\u001b[0;32m    922\u001b[0m \u001b[1;33m\u001b[0m\u001b[0m\n",
      "\u001b[1;32mc:\\Users\\Windows10Pro\\AppData\\Local\\Programs\\Python\\Python37\\lib\\site-packages\\ee\\data.py\u001b[0m in \u001b[0;36m_execute_cloud_call\u001b[1;34m(call, num_retries)\u001b[0m\n\u001b[0;32m    337\u001b[0m     \u001b[1;32mreturn\u001b[0m \u001b[0mcall\u001b[0m\u001b[1;33m.\u001b[0m\u001b[0mexecute\u001b[0m\u001b[1;33m(\u001b[0m\u001b[0mnum_retries\u001b[0m\u001b[1;33m=\u001b[0m\u001b[0mnum_retries\u001b[0m\u001b[1;33m)\u001b[0m\u001b[1;33m\u001b[0m\u001b[1;33m\u001b[0m\u001b[0m\n\u001b[0;32m    338\u001b[0m   \u001b[1;32mexcept\u001b[0m \u001b[0mgoogleapiclient\u001b[0m\u001b[1;33m.\u001b[0m\u001b[0merrors\u001b[0m\u001b[1;33m.\u001b[0m\u001b[0mHttpError\u001b[0m \u001b[1;32mas\u001b[0m \u001b[0me\u001b[0m\u001b[1;33m:\u001b[0m\u001b[1;33m\u001b[0m\u001b[1;33m\u001b[0m\u001b[0m\n\u001b[1;32m--> 339\u001b[1;33m     \u001b[1;32mraise\u001b[0m \u001b[0m_translate_cloud_exception\u001b[0m\u001b[1;33m(\u001b[0m\u001b[0me\u001b[0m\u001b[1;33m)\u001b[0m\u001b[1;33m\u001b[0m\u001b[1;33m\u001b[0m\u001b[0m\n\u001b[0m\u001b[0;32m    340\u001b[0m \u001b[1;33m\u001b[0m\u001b[0m\n\u001b[0;32m    341\u001b[0m \u001b[1;33m\u001b[0m\u001b[0m\n",
      "\u001b[1;31mEEException\u001b[0m: Image.reduceToVectors: Provide 'geometry' parameter when aggregating over an unbounded image."
     ]
    }
   ],
   "source": [
    "export_image_to_file(mndwi_flood_extent, 'geojson', geometry=roi)"
   ]
  }
 ],
 "metadata": {
  "kernelspec": {
   "display_name": "Python 3 (ipykernel)",
   "language": "python",
   "name": "python3"
  },
  "language_info": {
   "codemirror_mode": {
    "name": "ipython",
    "version": 3
   },
   "file_extension": ".py",
   "mimetype": "text/x-python",
   "name": "python",
   "nbconvert_exporter": "python",
   "pygments_lexer": "ipython3",
   "version": "3.7.6"
  }
 },
 "nbformat": 4,
 "nbformat_minor": 5
}
